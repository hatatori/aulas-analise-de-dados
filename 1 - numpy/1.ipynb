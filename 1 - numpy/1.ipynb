{
 "cells": [
  {
   "cell_type": "code",
   "execution_count": 1,
   "id": "ac9cd698",
   "metadata": {},
   "outputs": [],
   "source": [
    "import numpy as np"
   ]
  },
  {
   "cell_type": "code",
   "execution_count": 2,
   "id": "7ffb85fd",
   "metadata": {},
   "outputs": [
    {
     "name": "stdout",
     "output_type": "stream",
     "text": [
      "[1, 2, 3, 1, 2, 3]\n"
     ]
    }
   ],
   "source": [
    "a = [1,2,3]\n",
    "b = [1,2,3]\n",
    "c = a+b\n",
    "print(c)"
   ]
  },
  {
   "cell_type": "code",
   "execution_count": 3,
   "id": "ad1a9faf",
   "metadata": {},
   "outputs": [
    {
     "name": "stdout",
     "output_type": "stream",
     "text": [
      "[2 4 6]\n"
     ]
    }
   ],
   "source": [
    "a = np.array([1,2,3])\n",
    "b = np.array([1,2,3])\n",
    "c = a+b\n",
    "print(c)"
   ]
  },
  {
   "cell_type": "code",
   "execution_count": 5,
   "id": "4aa86254",
   "metadata": {},
   "outputs": [
    {
     "name": "stdout",
     "output_type": "stream",
     "text": [
      "[2 4 6]\n",
      "[1 4 9]\n",
      "[0 0 0]\n",
      "[1. 1. 1.]\n"
     ]
    }
   ],
   "source": [
    "a = np.array([1,2,3])\n",
    "b = np.array([1,2,3])\n",
    "\n",
    "add = a+b\n",
    "mul = a*b\n",
    "sub = a-b\n",
    "div = a/b\n",
    "\n",
    "print(add)\n",
    "print(mul)\n",
    "print(sub)\n",
    "print(div)"
   ]
  },
  {
   "cell_type": "code",
   "execution_count": 11,
   "id": "6e66de9d",
   "metadata": {},
   "outputs": [
    {
     "name": "stdout",
     "output_type": "stream",
     "text": [
      "5\n",
      "5\n",
      "5\n"
     ]
    }
   ],
   "source": [
    "# https://numpy.org/doc/1.24/reference/generated/numpy.ndarray.max.html\n",
    "\n",
    "a = [1,2,3,4,5]\n",
    "b = np.array([1,2,3,4,5])\n",
    "c = np.max([1,2,3,4,5])\n",
    "\n",
    "print(np.max(a))\n",
    "print(np.max(b))\n",
    "print(c)"
   ]
  },
  {
   "cell_type": "code",
   "execution_count": 26,
   "id": "28f04354",
   "metadata": {},
   "outputs": [
    {
     "name": "stdout",
     "output_type": "stream",
     "text": [
      "(3, 5)\n"
     ]
    }
   ],
   "source": [
    "a = [\n",
    "    [1, 2, 3, 4, 5], \n",
    "    [5, 6, 7, 8, 5],\n",
    "    [5, 6, 7, 8, 5]\n",
    "]\n",
    "\n",
    "b = np.array(a)\n",
    "\n",
    "print(b.shape)"
   ]
  },
  {
   "cell_type": "code",
   "execution_count": 92,
   "id": "7b89ed75",
   "metadata": {},
   "outputs": [
    {
     "name": "stdout",
     "output_type": "stream",
     "text": [
      "[1 2 3 4 5 6]\n"
     ]
    }
   ],
   "source": [
    "a = np.array([1,2,3])\n",
    "b = np.array([4,5,6])   \n",
    "c = np.concatenate((a,b))\n",
    "\n",
    "print(c)"
   ]
  },
  {
   "cell_type": "code",
   "execution_count": 99,
   "id": "97b91994",
   "metadata": {},
   "outputs": [
    {
     "name": "stdout",
     "output_type": "stream",
     "text": [
      "transpose:  [[1 4]\n",
      " [2 5]\n",
      " [3 6]]\n",
      "min:  1\n",
      "max:  6\n",
      "sqrt:  [[1.         1.41421356 1.73205081]\n",
      " [2.         2.23606798 2.44948974]]\n",
      "square:  [[ 1  4  9]\n",
      " [16 25 36]]\n",
      "transpose:  [[1 4]\n",
      " [2 5]\n",
      " [3 6]]\n"
     ]
    }
   ],
   "source": [
    "a = [1,2,3,4,5]\n",
    "b = [1,2,3,4,5]\n",
    "c = [ [1,2,3], [4,5,6]]\n",
    "\n",
    "n1 = np.transpose(c)\n",
    "n2 = np.min(c)\n",
    "n3 = np.max(c)\n",
    "n4 = np.sqrt(c)\n",
    "n5 = np.square(c)\n",
    "n6 = np.transpose(c)\n",
    "\n",
    "print(\"transpose: \", n1)\n",
    "print(\"min: \", n2)\n",
    "print(\"max: \", n3)\n",
    "print(\"sqrt: \", n4)\n",
    "print(\"square: \", n5)\n",
    "print(\"transpose: \", n6)"
   ]
  }
 ],
 "metadata": {
  "kernelspec": {
   "display_name": "Python 3",
   "language": "python",
   "name": "python3"
  },
  "language_info": {
   "codemirror_mode": {
    "name": "ipython",
    "version": 3
   },
   "file_extension": ".py",
   "mimetype": "text/x-python",
   "name": "python",
   "nbconvert_exporter": "python",
   "pygments_lexer": "ipython3",
   "version": "3.11.0 (main, Oct 24 2022, 18:26:48) [MSC v.1933 64 bit (AMD64)]"
  },
  "vscode": {
   "interpreter": {
    "hash": "c261aea317cc0286b3b3261fbba9abdec21eaa57589985bb7a274bf54d6cc0a7"
   }
  }
 },
 "nbformat": 4,
 "nbformat_minor": 5
}
