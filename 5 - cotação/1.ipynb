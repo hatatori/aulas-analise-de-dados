{
 "cells": [
  {
   "cell_type": "code",
   "execution_count": 11,
   "id": "8fa2c340",
   "metadata": {},
   "outputs": [
    {
     "data": {
      "text/html": [
       "<div>\n",
       "<style scoped>\n",
       "    .dataframe tbody tr th:only-of-type {\n",
       "        vertical-align: middle;\n",
       "    }\n",
       "\n",
       "    .dataframe tbody tr th {\n",
       "        vertical-align: top;\n",
       "    }\n",
       "\n",
       "    .dataframe thead th {\n",
       "        text-align: right;\n",
       "    }\n",
       "</style>\n",
       "<table border=\"1\" class=\"dataframe\">\n",
       "  <thead>\n",
       "    <tr style=\"text-align: right;\">\n",
       "      <th></th>\n",
       "      <th>Moeda</th>\n",
       "      <th>Cotação</th>\n",
       "      <th>Data atualização</th>\n",
       "    </tr>\n",
       "  </thead>\n",
       "  <tbody>\n",
       "    <tr>\n",
       "      <th>0</th>\n",
       "      <td>USDBRL</td>\n",
       "      <td>5.11</td>\n",
       "      <td>2023-01-28 23:09:17.024975</td>\n",
       "    </tr>\n",
       "    <tr>\n",
       "      <th>1</th>\n",
       "      <td>EURBRL</td>\n",
       "      <td>5.55</td>\n",
       "      <td>2023-01-28 23:09:17.026969</td>\n",
       "    </tr>\n",
       "    <tr>\n",
       "      <th>2</th>\n",
       "      <td>BTCBRL</td>\n",
       "      <td>118.85</td>\n",
       "      <td>2023-01-28 23:09:17.026969</td>\n",
       "    </tr>\n",
       "  </tbody>\n",
       "</table>\n",
       "</div>"
      ],
      "text/plain": [
       "    Moeda  Cotação           Data atualização\n",
       "0  USDBRL     5.11 2023-01-28 23:09:17.024975\n",
       "1  EURBRL     5.55 2023-01-28 23:09:17.026969\n",
       "2  BTCBRL   118.85 2023-01-28 23:09:17.026969"
      ]
     },
     "execution_count": 11,
     "metadata": {},
     "output_type": "execute_result"
    }
   ],
   "source": [
    "import requests\n",
    "import pandas as pd\n",
    "from datetime import datetime\n",
    "import time\n",
    "\n",
    "url = \"https://economia.awesomeapi.com.br/json/last/USD-BRL,EUR-BRL,BTC-BRL\"\n",
    "req = requests.get(url)\n",
    "\n",
    "req_j = req.json()\n",
    "\n",
    "real = req_j['USDBRL']['bid']\n",
    "euro = req_j['EURBRL']['bid']\n",
    "bitc = req_j['BTCBRL']['bid']\n",
    "\n",
    "tabela = pd.DataFrame()\n",
    "tabela.loc[0, \"Moeda\"] = \"USDBRL\"\n",
    "tabela.loc[1, \"Moeda\"] = \"EURBRL\"\n",
    "tabela.loc[2, \"Moeda\"] = \"BTCBRL\"\n",
    "tabela.loc[0, \"Cotação\"] = round(float(real), 2)\n",
    "tabela.loc[1, \"Cotação\"] = round(float(euro), 2)\n",
    "tabela.loc[2, \"Cotação\"] = round(float(bitc), 2) \n",
    "tabela.loc[0, \"Data atualização\"] = datetime.now()\n",
    "tabela.loc[1, \"Data atualização\"] = datetime.now()\n",
    "tabela.loc[2, \"Data atualização\"] = datetime.now()\n",
    "\n",
    "tabela.to_excel(\"cotacoes.xlsx\")\n",
    "\n",
    "pd.DataFrame(tabela)\n"
   ]
  }
 ],
 "metadata": {
  "kernelspec": {
   "display_name": "Python 3",
   "language": "python",
   "name": "python3"
  },
  "language_info": {
   "codemirror_mode": {
    "name": "ipython",
    "version": 3
   },
   "file_extension": ".py",
   "mimetype": "text/x-python",
   "name": "python",
   "nbconvert_exporter": "python",
   "pygments_lexer": "ipython3",
   "version": "3.11.0"
  },
  "vscode": {
   "interpreter": {
    "hash": "c261aea317cc0286b3b3261fbba9abdec21eaa57589985bb7a274bf54d6cc0a7"
   }
  }
 },
 "nbformat": 4,
 "nbformat_minor": 5
}
