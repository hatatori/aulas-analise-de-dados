{
 "cells": [
  {
   "cell_type": "code",
   "execution_count": 5,
   "id": "d876d1c6",
   "metadata": {},
   "outputs": [
    {
     "name": "stdout",
     "output_type": "stream",
     "text": [
      "Requirement already satisfied: openpyxl in c:\\python311\\lib\\site-packages (from -r requirements.txt (line 1)) (3.0.10)\n",
      "Requirement already satisfied: plotly in c:\\python311\\lib\\site-packages (from -r requirements.txt (line 2)) (5.12.0)\n",
      "Requirement already satisfied: pandas in c:\\python311\\lib\\site-packages (from -r requirements.txt (line 3)) (1.5.3)\n",
      "Requirement already satisfied: et-xmlfile in c:\\python311\\lib\\site-packages (from openpyxl->-r requirements.txt (line 1)) (1.1.0)\n",
      "Requirement already satisfied: tenacity>=6.2.0 in c:\\python311\\lib\\site-packages (from plotly->-r requirements.txt (line 2)) (8.1.0)\n",
      "Requirement already satisfied: python-dateutil>=2.8.1 in c:\\python311\\lib\\site-packages (from pandas->-r requirements.txt (line 3)) (2.8.2)\n",
      "Requirement already satisfied: pytz>=2020.1 in c:\\python311\\lib\\site-packages (from pandas->-r requirements.txt (line 3)) (2022.7.1)\n",
      "Requirement already satisfied: numpy>=1.21.0 in c:\\python311\\lib\\site-packages (from pandas->-r requirements.txt (line 3)) (1.23.5)\n",
      "Requirement already satisfied: six>=1.5 in c:\\python311\\lib\\site-packages (from python-dateutil>=2.8.1->pandas->-r requirements.txt (line 3)) (1.16.0)\n",
      "Note: you may need to restart the kernel to use updated packages.\n"
     ]
    },
    {
     "name": "stdout",
     "output_type": "stream",
     "text": [
      "Requirement already satisfied: openpyxl in c:\\python311\\lib\\site-packages (from -r requirements.txt (line 1)) (3.0.10)\n",
      "Collecting plotly\n",
      "  Downloading plotly-5.12.0-py2.py3-none-any.whl (15.2 MB)\n",
      "     --------------------------------------- 15.2/15.2 MB 23.3 MB/s eta 0:00:00\n",
      "Requirement already satisfied: pandas in c:\\python311\\lib\\site-packages (from -r requirements.txt (line 3)) (1.5.3)\n",
      "Requirement already satisfied: et-xmlfile in c:\\python311\\lib\\site-packages (from openpyxl->-r requirements.txt (line 1)) (1.1.0)\n",
      "Collecting tenacity>=6.2.0\n",
      "  Downloading tenacity-8.1.0-py3-none-any.whl (23 kB)\n",
      "Requirement already satisfied: python-dateutil>=2.8.1 in c:\\python311\\lib\\site-packages (from pandas->-r requirements.txt (line 3)) (2.8.2)\n",
      "Requirement already satisfied: pytz>=2020.1 in c:\\python311\\lib\\site-packages (from pandas->-r requirements.txt (line 3)) (2022.7.1)\n",
      "Requirement already satisfied: numpy>=1.21.0 in c:\\python311\\lib\\site-packages (from pandas->-r requirements.txt (line 3)) (1.23.5)\n",
      "Requirement already satisfied: six>=1.5 in c:\\python311\\lib\\site-packages (from python-dateutil>=2.8.1->pandas->-r requirements.txt (line 3)) (1.16.0)\n",
      "Installing collected packages: tenacity, plotly\n",
      "Successfully installed plotly-5.12.0 tenacity-8.1.0\n"
     ]
    }
   ],
   "source": [
    "pip install -r requirements.txt"
   ]
  }
 ],
 "metadata": {
  "kernelspec": {
   "display_name": "Python 3",
   "language": "python",
   "name": "python3"
  },
  "language_info": {
   "codemirror_mode": {
    "name": "ipython",
    "version": 3
   },
   "file_extension": ".py",
   "mimetype": "text/x-python",
   "name": "python",
   "nbconvert_exporter": "python",
   "pygments_lexer": "ipython3",
   "version": "3.11.0"
  },
  "vscode": {
   "interpreter": {
    "hash": "c261aea317cc0286b3b3261fbba9abdec21eaa57589985bb7a274bf54d6cc0a7"
   }
  }
 },
 "nbformat": 4,
 "nbformat_minor": 5
}
